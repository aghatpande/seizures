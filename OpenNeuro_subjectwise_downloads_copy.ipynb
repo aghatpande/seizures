{
 "cells": [
  {
   "cell_type": "code",
   "execution_count": 1,
   "metadata": {},
   "outputs": [],
   "source": [
    "import os\n",
    "import os.path as op\n",
    "import pathlib\n",
    "import openneuro as on\n",
    "import mne\n",
    "import mne_bids\n",
    "from mne.datasets import sample\n",
    "from mne_bids import BIDSPath, read_raw_bids, print_dir_tree, make_report, inspect_dataset\n",
    "from glob import glob\n",
    "from tqdm import tqdm"
   ]
  },
  {
   "cell_type": "code",
   "execution_count": 2,
   "metadata": {},
   "outputs": [
    {
     "name": "stdout",
     "output_type": "stream",
     "text": [
      "Platform:         macOS-12.6-arm64-arm-64bit\n",
      "Python:           3.9.16 | packaged by conda-forge | (main, Feb  1 2023, 21:38:11)  [Clang 14.0.6 ]\n",
      "Executable:       /Users/asgnxt/miniconda3/envs/mne1_3/bin/python\n",
      "CPU:              arm: 8 cores\n",
      "Memory:           16.0 GB\n",
      "\n",
      "mne:              1.3.1\n",
      "numpy:            1.23.5 {OpenBLAS 0.3.21 with 8 threads}\n",
      "scipy:            1.10.1\n",
      "matplotlib:       3.7.1 {backend=module://matplotlib_inline.backend_inline}\n",
      "\n",
      "sklearn:          1.2.2\n",
      "numba:            0.56.4\n",
      "nibabel:          5.0.1\n",
      "nilearn:          0.10.0\n",
      "dipy:             1.6.0\n",
      "openmeeg:         2.5.5\n",
      "cupy:             Not found\n",
      "pandas:           1.5.3\n",
      "pyvista:          0.38.5 {OpenGL 4.1 Metal - 76.3 via Apple M1}\n",
      "pyvistaqt:        0.9.1\n",
      "ipyvtklink:       0.2.3\n",
      "vtk:              9.2.6\n",
      "qtpy:             2.3.0 {PyQt5=5.15.6}\n",
      "ipympl:           0.9.3\n",
      "pyqtgraph:        0.13.2\n",
      "pooch:            v1.7.0\n",
      "\n",
      "mne_bids:         0.12\n",
      "mne_nirs:         Not found\n",
      "mne_features:     Not found\n",
      "mne_qt_browser:   0.4.0\n",
      "mne_connectivity: Not found\n",
      "mne_icalabel:     Not found\n"
     ]
    }
   ],
   "source": [
    "mne.sys_info()"
   ]
  },
  {
   "cell_type": "code",
   "execution_count": 3,
   "metadata": {},
   "outputs": [
    {
     "data": {
      "text/plain": [
       "'/Users/asgnxt/mne-miniconda/mne_data/ds003969'"
      ]
     },
     "execution_count": 3,
     "metadata": {},
     "output_type": "execute_result"
    }
   ],
   "source": [
    "# to download new subject's data, restart kernel and start from importing all modules\n",
    "\n",
    "dataset = 'ds003969'\n",
    "subject = '005'\n",
    "bids_root = op.join(op.dirname(sample.data_path()), dataset)\n",
    "if not op.isdir(bids_root):\n",
    "    os.makedirs(bids_root)\n",
    "bids_root"
   ]
  },
  {
   "cell_type": "code",
   "execution_count": 4,
   "metadata": {},
   "outputs": [
    {
     "data": {
      "text/plain": [
       "['sub-028',\n",
       " 'sub-027',\n",
       " 'sub-080',\n",
       " 'sub-056',\n",
       " 'sub-005',\n",
       " 'sub-004',\n",
       " 'sub-023',\n",
       " 'sub-001',\n",
       " 'sub-009',\n",
       " 'sub-007']"
      ]
     },
     "execution_count": 4,
     "metadata": {},
     "output_type": "execute_result"
    }
   ],
   "source": [
    "# list already downloaded subjects in dataset\n",
    "subjects_list = [op.basename(p) for p in glob(op.join(bids_root, 'sub-*'))]\n",
    "subjects_list"
   ]
  },
  {
   "cell_type": "code",
   "execution_count": 4,
   "metadata": {},
   "outputs": [
    {
     "name": "stdout",
     "output_type": "stream",
     "text": [
      "\n",
      "👋 Hello! This is openneuro-py 2022.1.0. Great to see you! 🤗\n",
      "\n",
      "   👉 Please report problems 🤯 and bugs 🪲 at\n",
      "      https://github.com/hoechenberger/openneuro-py/issues\n",
      "\n",
      "🌍 Preparing to download ds003969 …\n",
      "👉 Retrieving up to 17 files (5 concurrent downloads).\n",
      "✅ Finished downloading ds003969.\n",
      "\n",
      "🧠 Please enjoy your brains.\n",
      "\n"
     ]
    }
   ],
   "source": [
    "# Download one subject's data; add already imported subjects to the exclude list\n",
    "# currently only med1breath session downloaded for each subject excluded; need to download other sessions for them\n",
    "on.download(dataset=dataset, target_dir=bids_root, include=[f'sub-{subject}'], \n",
    "    exclude=['CHANGES','README','dataset_description.json', 'participants.json','participants.tsv',\n",
    "    'sub-001', 'sub-027','sub-028', 'sub-023', 'sub-004', 'sub-009', 'sub-007','sub-080','sub-005'])"
   ]
  },
  {
   "cell_type": "code",
   "execution_count": 5,
   "metadata": {},
   "outputs": [
    {
     "data": {
      "text/plain": [
       "['sub-028_task-med2_eeg.bdf',\n",
       " 'sub-028_task-think2_eeg.bdf',\n",
       " 'sub-028_task-think1_eeg.bdf',\n",
       " 'sub-028_task-med1breath_eeg.bdf',\n",
       " 'sub-027_task-think1_eeg.bdf',\n",
       " 'sub-027_task-think2_eeg.bdf',\n",
       " 'sub-027_task-med2_eeg.bdf',\n",
       " 'sub-027_task-med1breath_eeg.bdf',\n",
       " 'sub-080_task-med1breath_eeg.bdf',\n",
       " 'sub-080_task-think1_eeg.bdf',\n",
       " 'sub-080_task-med2_eeg.bdf',\n",
       " 'sub-080_task-think2_eeg.bdf',\n",
       " 'sub-056_task-med2_eeg.bdf',\n",
       " 'sub-056_task-med1breath_eeg.bdf',\n",
       " 'sub-056_task-think1_eeg.bdf',\n",
       " 'sub-056_task-think2_eeg.bdf',\n",
       " 'sub-005_task-med2_eeg.bdf',\n",
       " 'sub-005_task-think1_eeg.bdf',\n",
       " 'sub-005_task-med1breath_eeg.bdf',\n",
       " 'sub-005_task-think2_eeg.bdf',\n",
       " 'sub-004_task-med1breath_eeg.bdf',\n",
       " 'sub-004_task-med2_eeg.bdf',\n",
       " 'sub-004_task-think1_eeg.bdf',\n",
       " 'sub-004_task-think2_eeg.bdf',\n",
       " 'sub-023_task-think1_eeg.bdf',\n",
       " 'sub-023_task-think2_eeg.bdf',\n",
       " 'sub-023_task-med1breath_eeg.bdf',\n",
       " 'sub-023_task-med2_eeg.bdf',\n",
       " 'sub-001_task-med2_eeg.bdf',\n",
       " 'sub-001_task-think1_eeg.bdf',\n",
       " 'sub-001_task-med1breath_eeg.bdf',\n",
       " 'sub-001_task-think2_eeg.bdf',\n",
       " 'sub-009_task-think2_eeg.bdf',\n",
       " 'sub-009_task-med1breath_eeg.bdf',\n",
       " 'sub-009_task-think1_eeg.bdf',\n",
       " 'sub-009_task-med2_eeg.bdf',\n",
       " 'sub-007_task-med2_eeg.bdf',\n",
       " 'sub-007_task-med1breath_eeg.bdf',\n",
       " 'sub-007_task-think1_eeg.bdf',\n",
       " 'sub-007_task-think2_eeg.bdf']"
      ]
     },
     "execution_count": 5,
     "metadata": {},
     "output_type": "execute_result"
    }
   ],
   "source": [
    "# list all bdf files in the eeg sub-directory of all subjects\n",
    "bdf_files_all = [op.basename(p) for p in glob(op.join(bids_root, 'sub-*/eeg/', '*.bdf'))]\n",
    "bdf_files_all"
   ]
  }
 ],
 "metadata": {
  "kernelspec": {
   "display_name": "Python 3.9.13 ('mne')",
   "language": "python",
   "name": "python3"
  },
  "language_info": {
   "codemirror_mode": {
    "name": "ipython",
    "version": 3
   },
   "file_extension": ".py",
   "mimetype": "text/x-python",
   "name": "python",
   "nbconvert_exporter": "python",
   "pygments_lexer": "ipython3",
   "version": "3.9.16"
  },
  "orig_nbformat": 4,
  "vscode": {
   "interpreter": {
    "hash": "2b1d6308bfd9635885be6fe48711a065abef7f3c76b9233baaccfdc468997ac7"
   }
  }
 },
 "nbformat": 4,
 "nbformat_minor": 2
}
